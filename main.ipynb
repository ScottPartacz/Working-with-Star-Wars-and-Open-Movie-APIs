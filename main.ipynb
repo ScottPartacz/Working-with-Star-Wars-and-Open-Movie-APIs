{
 "cells": [
  {
   "cell_type": "code",
   "execution_count": 57,
   "metadata": {},
   "outputs": [],
   "source": [
    "import requests\n",
    "import csv\n",
    "from dataclasses import dataclass, field\n",
    "import json\n",
    "import datetime\n",
    "\n",
    "@dataclass\n",
    "class Film:\n",
    "    title: str \n",
    "    episode_id: int  \n",
    "    opening_crawl: str \n",
    "    director: str \n",
    "    producer: str \n",
    "    year: int\n",
    "    relase_date: str \n",
    "    characters: list \n",
    "    plot: str \n",
    "    rotten_tomatoes: int \n",
    "    box_office_gross: int = field(metadata={\"units\":\"U.S. dollars\"})\n",
    "\n",
    "    def __gt__(self,other):\n",
    "        return self.episode_id > other.episode_id\n",
    "\n",
    "    def __ge__(self,other):\n",
    "        return self.episode_id >= other.episode_id\n",
    "\n",
    "    def __lt__(self,other):\n",
    "        return self.episode_id < other.episode_id\n",
    "\n",
    "    def __le__(self,other):\n",
    "        return self.episode_id <= other.episode_id\n",
    "\n",
    "@dataclass\n",
    "class Character:\n",
    "    name: str\n",
    "    height: int = field(metadata={\"units\":\"centimeters\"})\n",
    "    mass: int = field(metadata={\"units\":\"kilograms\"})\n",
    "    hair_color: str\n",
    "    skin_color: str\n",
    "    eye_color: str\n",
    "    birth_year: str\n",
    "    gender: str\n",
    "\n",
    "@dataclass\n",
    "class Library:\n",
    "    movies: list\n",
    "    last_updated: datetime\n",
    "\n",
    "    def sort(self,list):\n",
    "        self.movies = sorted(self.movies, key = lambda x: x.episode_id)\n",
    "            \n",
    "\n"
   ]
  },
  {
   "cell_type": "code",
   "execution_count": 52,
   "metadata": {},
   "outputs": [
    {
     "name": "stdout",
     "output_type": "stream",
     "text": [
      "['2000', '2002', '2005']\n"
     ]
    }
   ],
   "source": [
    "\n",
    "\n"
   ]
  }
 ],
 "metadata": {
  "interpreter": {
   "hash": "aab2652dd422b8952e87837d88345d2dc429e222c6ab5d96b6e49515aa907270"
  },
  "kernelspec": {
   "display_name": "Python 3.9.7 64-bit ('base': conda)",
   "language": "python",
   "name": "python3"
  },
  "language_info": {
   "codemirror_mode": {
    "name": "ipython",
    "version": 3
   },
   "file_extension": ".py",
   "mimetype": "text/x-python",
   "name": "python",
   "nbconvert_exporter": "python",
   "pygments_lexer": "ipython3",
   "version": "3.9.7"
  },
  "orig_nbformat": 4
 },
 "nbformat": 4,
 "nbformat_minor": 2
}
